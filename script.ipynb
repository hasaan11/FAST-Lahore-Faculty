{
 "cells": [
  {
   "cell_type": "markdown",
   "metadata": {},
   "source": [
    "Part 1 of Assignment starts from here. After part 1, the output will consist of 5 csv files, each having the data of faculty members of the respective department."
   ]
  },
  {
   "cell_type": "code",
   "execution_count": 96,
   "metadata": {},
   "outputs": [],
   "source": [
    "from bs4 import BeautifulSoup\n",
    "import requests\n",
    "url_link = 'http://lhr.nu.edu.pk/faculty/'\n",
    "#get all the information in text form\n",
    "content = requests.get(url_link).text\n",
    "doc = BeautifulSoup(content,'html.parser')\n",
    "#check to see if the function is working\n",
    "#print(doc.prettify())\n"
   ]
  },
  {
   "cell_type": "markdown",
   "metadata": {},
   "source": [
    "The cell below defines 2 helper functions. The designation information on the website consists of many spaces. The strip function is used to remove spaces before and after the strings and the split function is used to seperate text by lines. As it is important to know wheter a specific faculty member is an HEC Approved PHD supervisor or not, some conditions are applied after observing the data. The data after splitting in case of the PHD approved supervisor is of the form:\n",
    "\n",
    "\n",
    "data after splitting = ['Professor', '                ', '       HEC Approved PHD Supervisor']\n",
    "\n",
    "So, in this case, the code simply checks if the string at index 2 contains 'HEC Approved PHD Supervisor' or not\n",
    "\n",
    "In case of the faculty members that are not HEC approved PHD supervisors, the list only has 1 element i.e. the designation. Hence, if the list size is less than 3, it automatically returns a 'No'"
   ]
  },
  {
   "cell_type": "code",
   "execution_count": 97,
   "metadata": {},
   "outputs": [],
   "source": [
    "def cleanDesignation(designation):\n",
    "    designation = designation.strip()\n",
    "    designation = designation.split('\\n')\n",
    "    return designation[0]\n",
    "\n",
    "def checkPHD(designation):\n",
    "    designation = designation.strip()\n",
    "    designation = designation.split('\\n')\n",
    "\n",
    "    if len(designation) >=3:\n",
    "        if('HEC Approved PhD Supervisor' in designation[2]):\n",
    "            return 'Yes'\n",
    "        return 'No'\n",
    "    return 'No'\n",
    "    "
   ]
  },
  {
   "cell_type": "markdown",
   "metadata": {},
   "source": [
    "The cell below defines a function getID that retrieves the ID of the faculty member from a link provided. The IDs are present at the end of the link. For example, in the link: http://lhr.nu.edu.pk/fsc/facultyProfile/4391, 4391 is the ID. "
   ]
  },
  {
   "cell_type": "code",
   "execution_count": 98,
   "metadata": {},
   "outputs": [],
   "source": [
    "def getID(link):\n",
    "    i = -1\n",
    "    id = ''\n",
    "    while(link[i] != '/'):\n",
    "        num = link[i]\n",
    "        id = num + id\n",
    "        i = i-1\n",
    "    \n",
    "    return int(id)\n"
   ]
  },
  {
   "cell_type": "markdown",
   "metadata": {},
   "source": [
    "The function ScrapeDept in the cell below scrapes data for a particular department. findAll is used to collect all cards and then each card is iterated over and relevant information is extracted using classes and IDs that are defined in the HTML."
   ]
  },
  {
   "cell_type": "code",
   "execution_count": 99,
   "metadata": {},
   "outputs": [],
   "source": [
    "import pandas as pd\n",
    "\n",
    "\n",
    "#Scrapes Data from the department whos ID is passed\n",
    "def ScrapeDept(deptID, deptName):\n",
    "    doc2 = doc.find(id = deptID)\n",
    "    Cards = doc2.findAll(class_ = 'col-lg-3 col-md-4 col-sm-6 col-12')\n",
    "\n",
    "    #define name of classes from where data is to be scrapped for better readability\n",
    "    nameClass = \"text-center\"\n",
    "    designationClass = \"small text-center font-italic\"\n",
    "    emailClass = \"mb-0 text-center\"\n",
    "    imageClass = \"card-img-top rounded-circle mt-3 mb-0 d-block mx-auto\"\n",
    "    reference = 'http://lhr.nu.edu.pk/'\n",
    "\n",
    "    #initialize a dataframe with columns\n",
    "    df = pd.DataFrame(columns=['ID', 'Name', 'Designation',\n",
    "    'HEC Approved PHD Supervisor', 'Email',\n",
    "     'Department', 'ImageURL'])\n",
    "\n",
    "    for Card in Cards:\n",
    "\n",
    "        #get the name of the faculty member\n",
    "        name = Card.find(class_ = nameClass).text\n",
    "\n",
    "        #get the designation of the faculty member\n",
    "        rawDesignation = Card.find(class_ = designationClass).text\n",
    "        designation = cleanDesignation(rawDesignation)\n",
    "\n",
    "        #check if HEC approved supervisor or not\n",
    "        phdSup = checkPHD(rawDesignation)\n",
    "\n",
    "        #get the email of the faculty member\n",
    "        email = Card.find(class_ = emailClass).text\n",
    "\n",
    "        #prepare the faculty link\n",
    "        facultyLink = Card.find('a', class_ = 'faculty-link')['href']\n",
    "        #facultyLink = reference + facultyLink\n",
    "\n",
    "        #getID\n",
    "        id = getID(facultyLink)\n",
    "\n",
    "        #assign the department\n",
    "        department = deptName\n",
    "        \n",
    "        #get the image URL\n",
    "        imgUrl = Card.find(class_ = imageClass)['src']\n",
    "        imgUrl = reference + imgUrl\n",
    "\n",
    "\n",
    "        #add a row to the dataframe\n",
    "        df = df.append({'ID' : id, 'Name' : name, 'Designation' : designation,\n",
    "        'HEC Approved PHD Supervisor': phdSup, 'Email': email, 'Department': department,\n",
    "        'ImageURL': imgUrl},\n",
    "        ignore_index = True)\n",
    "\n",
    "    return df\n",
    "    \n"
   ]
  },
  {
   "cell_type": "code",
   "execution_count": 100,
   "metadata": {},
   "outputs": [],
   "source": [
    "#Call the Scraping Function for each department\n",
    "csDf = ScrapeDept('fsc', 'Computer Science')\n",
    "eeDf = ScrapeDept('ee', 'Electrical Engineering')\n",
    "fsmDf = ScrapeDept('fsm', 'FAST School of Management')\n",
    "cvDf = ScrapeDept('cv', 'Civil Engineering')\n",
    "ssDf = ScrapeDept('ss', 'Social Sciences')\n",
    "\n",
    "#convert DataFrames into csv files\n",
    "csDf.to_csv('fsc.csv', index=False)\n",
    "eeDf.to_csv('ee.csv', index=False)\n",
    "cvDf.to_csv('cv.csv', index=False)\n",
    "fsmDf.to_csv('fsm.csv', index=False)\n",
    "ssDf.to_csv('ss.csv', index=False)"
   ]
  },
  {
   "cell_type": "markdown",
   "metadata": {},
   "source": [
    "Part 1 of Assignment ends here. \n",
    "*********************************************************************************************************************************"
   ]
  },
  {
   "cell_type": "markdown",
   "metadata": {},
   "source": [
    "The cell below loads the created files into new dataframes"
   ]
  },
  {
   "cell_type": "code",
   "execution_count": 101,
   "metadata": {},
   "outputs": [],
   "source": [
    "#convert csv files to dataframes\n",
    "\n",
    "csDf_ = pd.read_csv('fsc.csv')\n",
    "eeDf_ = pd.read_csv('ee.csv')\n",
    "cvDf_ = pd.read_csv('cv.csv')\n",
    "fsmDf_ = pd.read_csv('fsm.csv')\n",
    "ssDf_ = pd.read_csv('ss.csv')"
   ]
  },
  {
   "cell_type": "markdown",
   "metadata": {},
   "source": [
    "The cell below takes 10 random entries from each dataframe"
   ]
  },
  {
   "cell_type": "code",
   "execution_count": 102,
   "metadata": {},
   "outputs": [],
   "source": [
    "# Sample dataFrames\n",
    "\n",
    "fsc_sample = csDf_.sample(10)\n",
    "ee_sample = eeDf_.sample(10)\n",
    "cv_sample = cvDf_.sample(10)\n",
    "fsm_sample = fsmDf_.sample(10)\n",
    "ss_sample = ssDf_.sample(10)\n"
   ]
  },
  {
   "cell_type": "markdown",
   "metadata": {},
   "source": [
    "convertColToList converts column of a dataframe into a python list. The list is later iterated over as desired."
   ]
  },
  {
   "cell_type": "code",
   "execution_count": 103,
   "metadata": {},
   "outputs": [],
   "source": [
    "def convertColToList(df, colName):\n",
    "    ids = df[colName].tolist()\n",
    "    return ids\n",
    "\n",
    "def getFacultyLink(id, dept):\n",
    "    link = f'http://lhr.nu.edu.pk/{dept}/facultyProfile/{id}'\n",
    "    return link"
   ]
  },
  {
   "cell_type": "markdown",
   "metadata": {},
   "source": [
    "getExtension extracts the extension from the phone number. The extension is given at the end of the string that contains the phone number. For example, XXXXXXXXXXXXX Ext:241. In case there is no extension given, the function returns -1"
   ]
  },
  {
   "cell_type": "code",
   "execution_count": 104,
   "metadata": {},
   "outputs": [],
   "source": [
    "def getExtension(phone):\n",
    "    i = -1\n",
    "    ext = ''\n",
    "    while(phone[i] != ':'):\n",
    "        num = phone[i]\n",
    "        ext = num + ext\n",
    "        i = i-1\n",
    "\n",
    "    if ext == 'None': return -1\n",
    "    return int(ext)"
   ]
  },
  {
   "cell_type": "markdown",
   "metadata": {},
   "source": [
    "otherAttribures extracts phone and education via the facultyLink given to it."
   ]
  },
  {
   "cell_type": "code",
   "execution_count": 105,
   "metadata": {},
   "outputs": [],
   "source": [
    "def otherAttributes(facultyLink):\n",
    "    #get the content\n",
    "    content = requests.get(facultyLink).text\n",
    "    Card = BeautifulSoup(content,'html.parser')\n",
    "\n",
    "    #define classes of phone and education\n",
    "    phoneClass = 'fas fa-phone-square mr-1'\n",
    "    educationClass = 'col-lg-8 col-md-6 col-sm-12 text-justify'\n",
    "    \n",
    "    #rawPhone is the complete phone number along with the text, while phone stores the extraction\n",
    "    rawPhone = Card.find('span', class_ = 'small').text\n",
    "    phone = getExtension(rawPhone)\n",
    "    \n",
    "    edClass = Card.find(class_ = educationClass)\n",
    "    \n",
    "    #find the unordered list tag\n",
    "    education = edClass.find('ul')\n",
    "    \n",
    "    #extract the first li tag, that will be the most recent education. Otherwise return 'No Information'\n",
    "    if education.find('li'):\n",
    "        education = education.find('li').text\n",
    "    \n",
    "    else:\n",
    "        education = 'No Information'\n",
    "    \n",
    "    return phone,education"
   ]
  },
  {
   "cell_type": "markdown",
   "metadata": {},
   "source": [
    "getExtendedDf takes a dataframe, converts the IDs in the given data frames into a list and then extracts phone number and extension against each ID and then returns a dataframe of : ID Phone Extension"
   ]
  },
  {
   "cell_type": "code",
   "execution_count": 106,
   "metadata": {},
   "outputs": [],
   "source": [
    "def getExtendedDf(df, colName, dept):\n",
    "    ids = convertColToList(df,colName)\n",
    "\n",
    "    dataFrame = pd.DataFrame(columns=['ID', 'Extension', 'Education'])\n",
    "    for id in ids:\n",
    "        link = getFacultyLink(id, dept)\n",
    "        ext, education = otherAttributes(link)\n",
    "        \n",
    "        dataFrame = dataFrame.append({'ID' : id, 'Extension': ext, 'Education': education}, ignore_index = True)\n",
    "    \n",
    "    return dataFrame"
   ]
  },
  {
   "cell_type": "code",
   "execution_count": 107,
   "metadata": {},
   "outputs": [],
   "source": [
    "#makes the append warning go away\n",
    "import warnings\n",
    "warnings.simplefilter(action='ignore', category=FutureWarning)"
   ]
  },
  {
   "cell_type": "code",
   "execution_count": 108,
   "metadata": {},
   "outputs": [],
   "source": [
    "#call extendedDf for every class\n",
    "csDf2 = getExtendedDf(csDf_, 'ID', 'fsc')\n",
    "eeDf2 = getExtendedDf(eeDf_, 'ID', 'ee')\n",
    "cvDf2 = getExtendedDf(cvDf_, 'ID', 'cv')\n",
    "ssDf2 = getExtendedDf(ssDf_, 'ID', 'ss')\n",
    "fsmDf2 = getExtendedDf(fsmDf_, 'ID', 'fsm')\n"
   ]
  },
  {
   "cell_type": "code",
   "execution_count": 109,
   "metadata": {},
   "outputs": [],
   "source": [
    "#convert new dataframes to csv files\n",
    "csDf2.to_csv('fsc_2.csv', index=False)\n",
    "eeDf2.to_csv('ee_2.csv', index=False)\n",
    "cvDf2.to_csv('cv_2.csv', index=False)\n",
    "fsmDf2.to_csv('fsm_2.csv', index=False)\n",
    "ssDf2.to_csv('ss_2.csv', index=False)"
   ]
  },
  {
   "cell_type": "markdown",
   "metadata": {},
   "source": [
    "Task 2 of the assignment ends here. Task 3 is present in the cell below."
   ]
  },
  {
   "cell_type": "code",
   "execution_count": 110,
   "metadata": {},
   "outputs": [],
   "source": [
    "#load all csv files into dataframes\n",
    "\n",
    "cs = pd.read_csv('fsc.csv')\n",
    "ee = pd.read_csv('ee.csv')\n",
    "cv = pd.read_csv('cv.csv')\n",
    "fsm= pd.read_csv('fsm.csv')\n",
    "ss = pd.read_csv('ss.csv')\n",
    "\n",
    "\n",
    "cs1 = pd.read_csv('fsc_2.csv')\n",
    "ee1 = pd.read_csv('ee_2.csv')\n",
    "cv1 = pd.read_csv('cv_2.csv')\n",
    "fsm1= pd.read_csv('fsm_2.csv')\n",
    "ss1 = pd.read_csv('ss_2.csv')"
   ]
  },
  {
   "cell_type": "code",
   "execution_count": 111,
   "metadata": {},
   "outputs": [],
   "source": [
    "#merge the files on the column ID\n",
    "csMerged = pd.merge(cs, cs1, on='ID', how='left')\n",
    "eeMerged = pd.merge(ee, ee1, on='ID', how='left')\n",
    "cvMerged = pd.merge(cv, cv1, on='ID', how='left')\n",
    "ssMerged = pd.merge(ss, ss1, on='ID', how='left')\n",
    "fsmMerged = pd.merge(fsm, fsm1, on='ID', how='left')"
   ]
  },
  {
   "cell_type": "code",
   "execution_count": 112,
   "metadata": {},
   "outputs": [],
   "source": [
    "#merge every dataframe to get a single dataframe\n",
    "df1 = csMerged.append(eeMerged, ignore_index=True)\n",
    "df2 = cvMerged.append(ssMerged, ignore_index=True)\n",
    "df3 = df2.append(fsmMerged, ignore_index=True)\n",
    "df_merged = df1.append(df3,ignore_index=True)\n",
    "\n",
    "#make a csv file\n",
    "df_merged.to_csv('fast_lhr_faculty.csv', index=False)"
   ]
  }
 ],
 "metadata": {
  "kernelspec": {
   "display_name": "Python 3.10.5 64-bit",
   "language": "python",
   "name": "python3"
  },
  "language_info": {
   "codemirror_mode": {
    "name": "ipython",
    "version": 3
   },
   "file_extension": ".py",
   "mimetype": "text/x-python",
   "name": "python",
   "nbconvert_exporter": "python",
   "pygments_lexer": "ipython3",
   "version": "3.10.5"
  },
  "orig_nbformat": 4,
  "vscode": {
   "interpreter": {
    "hash": "a9cff5a362bc38ef45d817ae74b1af54d6a076e3d773891282bce078b815ba34"
   }
  }
 },
 "nbformat": 4,
 "nbformat_minor": 2
}
